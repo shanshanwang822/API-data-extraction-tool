{
 "cells": [
  {
   "cell_type": "code",
   "execution_count": 1,
   "id": "bb736b6b",
   "metadata": {},
   "outputs": [
    {
     "name": "stdout",
     "output_type": "stream",
     "text": [
      "Requirement already satisfied: requests in d:\\python3.9\\lib\\site-packages (2.31.0)\n",
      "Requirement already satisfied: pandas in d:\\python3.9\\lib\\site-packages (2.2.0)\n",
      "Requirement already satisfied: pymongo in d:\\python3.9\\lib\\site-packages (4.6.2)\n",
      "Requirement already satisfied: Flask in d:\\python3.9\\lib\\site-packages (3.0.2)\n",
      "Requirement already satisfied: idna<4,>=2.5 in d:\\python3.9\\lib\\site-packages (from requests) (3.6)\n",
      "Requirement already satisfied: certifi>=2017.4.17 in d:\\python3.9\\lib\\site-packages (from requests) (2023.11.17)\n",
      "Requirement already satisfied: urllib3<3,>=1.21.1 in d:\\python3.9\\lib\\site-packages (from requests) (2.1.0)\n",
      "Requirement already satisfied: charset-normalizer<4,>=2 in d:\\python3.9\\lib\\site-packages (from requests) (3.3.2)\n",
      "Requirement already satisfied: tzdata>=2022.7 in d:\\python3.9\\lib\\site-packages (from pandas) (2024.1)\n",
      "Requirement already satisfied: pytz>=2020.1 in d:\\python3.9\\lib\\site-packages (from pandas) (2024.1)\n",
      "Requirement already satisfied: numpy<2,>=1.22.4 in d:\\python3.9\\lib\\site-packages (from pandas) (1.26.3)\n",
      "Requirement already satisfied: python-dateutil>=2.8.2 in d:\\python3.9\\lib\\site-packages (from pandas) (2.8.2)\n",
      "Requirement already satisfied: dnspython<3.0.0,>=1.16.0 in d:\\python3.9\\lib\\site-packages (from pymongo) (2.6.1)\n",
      "Requirement already satisfied: importlib-metadata>=3.6.0 in d:\\python3.9\\lib\\site-packages (from Flask) (7.0.1)\n",
      "Requirement already satisfied: itsdangerous>=2.1.2 in d:\\python3.9\\lib\\site-packages (from Flask) (2.1.2)\n",
      "Requirement already satisfied: click>=8.1.3 in d:\\python3.9\\lib\\site-packages (from Flask) (8.1.7)\n",
      "Requirement already satisfied: blinker>=1.6.2 in d:\\python3.9\\lib\\site-packages (from Flask) (1.7.0)\n",
      "Requirement already satisfied: Werkzeug>=3.0.0 in d:\\python3.9\\lib\\site-packages (from Flask) (3.0.1)\n",
      "Requirement already satisfied: Jinja2>=3.1.2 in d:\\python3.9\\lib\\site-packages (from Flask) (3.1.3)\n",
      "Requirement already satisfied: colorama in d:\\python3.9\\lib\\site-packages (from click>=8.1.3->Flask) (0.4.6)\n",
      "Requirement already satisfied: zipp>=0.5 in d:\\python3.9\\lib\\site-packages (from importlib-metadata>=3.6.0->Flask) (3.17.0)\n",
      "Requirement already satisfied: MarkupSafe>=2.0 in d:\\python3.9\\lib\\site-packages (from Jinja2>=3.1.2->Flask) (2.1.4)\n",
      "Requirement already satisfied: six>=1.5 in d:\\python3.9\\lib\\site-packages (from python-dateutil>=2.8.2->pandas) (1.16.0)\n"
     ]
    },
    {
     "name": "stderr",
     "output_type": "stream",
     "text": [
      "WARNING: You are using pip version 21.2.4; however, version 24.0 is available.\n",
      "You should consider upgrading via the 'D:\\python3.9\\python.exe -m pip install --upgrade pip' command.\n"
     ]
    }
   ],
   "source": [
    "!pip install requests pandas pymongo Flask pyngrok"
   ]
  },
  {
   "cell_type": "code",
   "execution_count": 2,
   "id": "f9316888",
   "metadata": {},
   "outputs": [],
   "source": [
    "# API connection\n",
    "import requests\n",
    "\n",
    "def fetch_data(url):\n",
    "    response = requests.get(url)\n",
    "    response.raise_for_status()  # Raises an HTTPError for bad responses\n",
    "    return response.json()\n",
    "\n",
    "# URL for the online database\n",
    "api_url = 'https://data.cityofnewyork.us/resource/ic3t-wcy2.json'\n",
    "data = fetch_data(api_url)"
   ]
  },
  {
   "cell_type": "code",
   "execution_count": 3,
   "id": "0e84470c",
   "metadata": {},
   "outputs": [
    {
     "name": "stderr",
     "output_type": "stream",
     "text": [
      "/Users/a333/anaconda3/lib/python3.11/site-packages/pandas/core/arrays/masked.py:60: UserWarning: Pandas requires version '1.3.6' or newer of 'bottleneck' (version '1.3.5' currently installed).\n",
      "  from pandas.core import (\n"
     ]
    }
   ],
   "source": [
    "import pandas as pd\n",
    "\n",
    "# Convert to DataFrame\n",
    "df = pd.DataFrame(data)"
   ]
  },
  {
   "cell_type": "code",
   "execution_count": 4,
   "id": "13c6b219",
   "metadata": {},
   "outputs": [
    {
     "name": "stdout",
     "output_type": "stream",
     "text": [
      "         job__ doc__    borough house__        street_name  block    lot  \\\n",
      "0    301776077    01   BROOKLYN     208  NORTH    8 STREET  02321  00008   \n",
      "1    301776291    01   BROOKLYN     933          51 STREET  05645  00066   \n",
      "2    302163557    01   BROOKLYN      96     ROCKWELL PLACE  02106  07501   \n",
      "3    440673852    01     QUEENS  246-08           135 ROAD  13228  00009   \n",
      "4    421789559    01     QUEENS   98-87        QUEENS BLVD  02105  00001   \n",
      "..         ...   ...        ...     ...                ...    ...    ...   \n",
      "995  121324147    04  MANHATTAN     133   GREENWICH STREET  00052  00008   \n",
      "996  120195154    01  MANHATTAN      12     WEST 19 STREET  00820  00053   \n",
      "997  301942138    01   BROOKLYN     111     STEUBEN STREET  01894  00058   \n",
      "998  121819577    01  MANHATTAN     734           BROADWAY  00545  00021   \n",
      "999  421743297    01     QUEENS   35-06       UNION STREET  04961  00019   \n",
      "\n",
      "       bin__ job_type job_status                job_status_descrp  \\\n",
      "0    3061967       A2          X                       SIGNED OFF   \n",
      "1    3137917       A1          X                       SIGNED OFF   \n",
      "2    3059160       A1          R  PERMIT ISSUED - ENTIRE JOB/WORK   \n",
      "3    4284335       A2          X                       SIGNED OFF   \n",
      "4    4050525       DM          R  PERMIT ISSUED - ENTIRE JOB/WORK   \n",
      "..       ...      ...        ...                              ...   \n",
      "995  1089248       NB          R  PERMIT ISSUED - ENTIRE JOB/WORK   \n",
      "996  1015457       A2          R  PERMIT ISSUED - ENTIRE JOB/WORK   \n",
      "997  3054615       NB          X                       SIGNED OFF   \n",
      "998  1008798       A3          X                       SIGNED OFF   \n",
      "999  4112190       A3          X                       SIGNED OFF   \n",
      "\n",
      "    latest_action_date building_type  \n",
      "0           11/28/2005        OTHERS  \n",
      "1           10/26/2006  1-2-3 FAMILY  \n",
      "2           05/10/2010        OTHERS  \n",
      "3           02/23/2022  1-2-3 FAMILY  \n",
      "4           03/24/2022        OTHERS  \n",
      "..                 ...           ...  \n",
      "995         06/20/2014        OTHERS  \n",
      "996         12/17/2009        OTHERS  \n",
      "997         06/23/2009        OTHERS  \n",
      "998         07/16/2020        OTHERS  \n",
      "999         05/05/2021        OTHERS  \n",
      "\n",
      "[1000 rows x 13 columns]\n"
     ]
    }
   ],
   "source": [
    "# Data transformation\n",
    "df = df.iloc[:, :13] #Keep only the most important columns\n",
    "print(df)"
   ]
  },
  {
   "cell_type": "code",
   "execution_count": 6,
   "id": "61b8144c",
   "metadata": {},
   "outputs": [],
   "source": [
    "from pymongo import MongoClient\n",
    "\n",
    "# Connect to MongoDB (adjust the connection string as necessary)\n",
    "client = MongoClient('mongodb://localhost:27017/')\n",
    "db = client['5400']  \n",
    "collection = db['Job2'] "
   ]
  },
  {
   "cell_type": "code",
   "execution_count": 7,
   "id": "a34194c7",
   "metadata": {},
   "outputs": [
    {
     "data": {
      "text/plain": [
       "InsertManyResult([ObjectId('6620262a914995a751b5009c'), ObjectId('6620262a914995a751b5009d'), ObjectId('6620262a914995a751b5009e'), ObjectId('6620262a914995a751b5009f'), ObjectId('6620262a914995a751b500a0'), ObjectId('6620262a914995a751b500a1'), ObjectId('6620262a914995a751b500a2'), ObjectId('6620262a914995a751b500a3'), ObjectId('6620262a914995a751b500a4'), ObjectId('6620262a914995a751b500a5'), ObjectId('6620262a914995a751b500a6'), ObjectId('6620262a914995a751b500a7'), ObjectId('6620262a914995a751b500a8'), ObjectId('6620262a914995a751b500a9'), ObjectId('6620262a914995a751b500aa'), ObjectId('6620262a914995a751b500ab'), ObjectId('6620262a914995a751b500ac'), ObjectId('6620262a914995a751b500ad'), ObjectId('6620262a914995a751b500ae'), ObjectId('6620262a914995a751b500af'), ObjectId('6620262a914995a751b500b0'), ObjectId('6620262a914995a751b500b1'), ObjectId('6620262a914995a751b500b2'), ObjectId('6620262a914995a751b500b3'), ObjectId('6620262a914995a751b500b4'), ObjectId('6620262a914995a751b500b5'), ObjectId('6620262a914995a751b500b6'), ObjectId('6620262a914995a751b500b7'), ObjectId('6620262a914995a751b500b8'), ObjectId('6620262a914995a751b500b9'), ObjectId('6620262a914995a751b500ba'), ObjectId('6620262a914995a751b500bb'), ObjectId('6620262a914995a751b500bc'), ObjectId('6620262a914995a751b500bd'), ObjectId('6620262a914995a751b500be'), ObjectId('6620262a914995a751b500bf'), ObjectId('6620262a914995a751b500c0'), ObjectId('6620262a914995a751b500c1'), ObjectId('6620262a914995a751b500c2'), ObjectId('6620262a914995a751b500c3'), ObjectId('6620262a914995a751b500c4'), ObjectId('6620262a914995a751b500c5'), ObjectId('6620262a914995a751b500c6'), ObjectId('6620262a914995a751b500c7'), ObjectId('6620262a914995a751b500c8'), ObjectId('6620262a914995a751b500c9'), ObjectId('6620262a914995a751b500ca'), ObjectId('6620262a914995a751b500cb'), ObjectId('6620262a914995a751b500cc'), ObjectId('6620262a914995a751b500cd'), ObjectId('6620262a914995a751b500ce'), ObjectId('6620262a914995a751b500cf'), ObjectId('6620262a914995a751b500d0'), ObjectId('6620262a914995a751b500d1'), ObjectId('6620262a914995a751b500d2'), ObjectId('6620262a914995a751b500d3'), ObjectId('6620262a914995a751b500d4'), ObjectId('6620262a914995a751b500d5'), ObjectId('6620262a914995a751b500d6'), ObjectId('6620262a914995a751b500d7'), ObjectId('6620262a914995a751b500d8'), ObjectId('6620262a914995a751b500d9'), ObjectId('6620262a914995a751b500da'), ObjectId('6620262a914995a751b500db'), ObjectId('6620262a914995a751b500dc'), ObjectId('6620262a914995a751b500dd'), ObjectId('6620262a914995a751b500de'), ObjectId('6620262a914995a751b500df'), ObjectId('6620262a914995a751b500e0'), ObjectId('6620262a914995a751b500e1'), ObjectId('6620262a914995a751b500e2'), ObjectId('6620262a914995a751b500e3'), ObjectId('6620262a914995a751b500e4'), ObjectId('6620262a914995a751b500e5'), ObjectId('6620262a914995a751b500e6'), ObjectId('6620262a914995a751b500e7'), ObjectId('6620262a914995a751b500e8'), ObjectId('6620262a914995a751b500e9'), ObjectId('6620262a914995a751b500ea'), ObjectId('6620262a914995a751b500eb'), ObjectId('6620262a914995a751b500ec'), ObjectId('6620262a914995a751b500ed'), ObjectId('6620262a914995a751b500ee'), ObjectId('6620262a914995a751b500ef'), ObjectId('6620262a914995a751b500f0'), ObjectId('6620262a914995a751b500f1'), ObjectId('6620262a914995a751b500f2'), ObjectId('6620262a914995a751b500f3'), ObjectId('6620262a914995a751b500f4'), ObjectId('6620262a914995a751b500f5'), ObjectId('6620262a914995a751b500f6'), ObjectId('6620262a914995a751b500f7'), ObjectId('6620262a914995a751b500f8'), ObjectId('6620262a914995a751b500f9'), ObjectId('6620262a914995a751b500fa'), ObjectId('6620262a914995a751b500fb'), ObjectId('6620262a914995a751b500fc'), ObjectId('6620262a914995a751b500fd'), ObjectId('6620262a914995a751b500fe'), ObjectId('6620262a914995a751b500ff'), ObjectId('6620262a914995a751b50100'), ObjectId('6620262a914995a751b50101'), ObjectId('6620262a914995a751b50102'), ObjectId('6620262a914995a751b50103'), ObjectId('6620262a914995a751b50104'), ObjectId('6620262a914995a751b50105'), ObjectId('6620262a914995a751b50106'), ObjectId('6620262a914995a751b50107'), ObjectId('6620262a914995a751b50108'), ObjectId('6620262a914995a751b50109'), ObjectId('6620262a914995a751b5010a'), ObjectId('6620262a914995a751b5010b'), ObjectId('6620262a914995a751b5010c'), ObjectId('6620262a914995a751b5010d'), ObjectId('6620262a914995a751b5010e'), ObjectId('6620262a914995a751b5010f'), ObjectId('6620262a914995a751b50110'), ObjectId('6620262a914995a751b50111'), ObjectId('6620262a914995a751b50112'), ObjectId('6620262a914995a751b50113'), ObjectId('6620262a914995a751b50114'), ObjectId('6620262a914995a751b50115'), ObjectId('6620262a914995a751b50116'), ObjectId('6620262a914995a751b50117'), ObjectId('6620262a914995a751b50118'), ObjectId('6620262a914995a751b50119'), ObjectId('6620262a914995a751b5011a'), ObjectId('6620262a914995a751b5011b'), ObjectId('6620262a914995a751b5011c'), ObjectId('6620262a914995a751b5011d'), ObjectId('6620262a914995a751b5011e'), ObjectId('6620262a914995a751b5011f'), ObjectId('6620262a914995a751b50120'), ObjectId('6620262a914995a751b50121'), ObjectId('6620262a914995a751b50122'), ObjectId('6620262a914995a751b50123'), ObjectId('6620262a914995a751b50124'), ObjectId('6620262a914995a751b50125'), ObjectId('6620262a914995a751b50126'), ObjectId('6620262a914995a751b50127'), ObjectId('6620262a914995a751b50128'), ObjectId('6620262a914995a751b50129'), ObjectId('6620262a914995a751b5012a'), ObjectId('6620262a914995a751b5012b'), ObjectId('6620262a914995a751b5012c'), ObjectId('6620262a914995a751b5012d'), ObjectId('6620262a914995a751b5012e'), ObjectId('6620262a914995a751b5012f'), ObjectId('6620262a914995a751b50130'), ObjectId('6620262a914995a751b50131'), ObjectId('6620262a914995a751b50132'), ObjectId('6620262a914995a751b50133'), ObjectId('6620262a914995a751b50134'), ObjectId('6620262a914995a751b50135'), ObjectId('6620262a914995a751b50136'), ObjectId('6620262a914995a751b50137'), ObjectId('6620262a914995a751b50138'), ObjectId('6620262a914995a751b50139'), ObjectId('6620262a914995a751b5013a'), ObjectId('6620262a914995a751b5013b'), ObjectId('6620262a914995a751b5013c'), ObjectId('6620262a914995a751b5013d'), ObjectId('6620262a914995a751b5013e'), ObjectId('6620262a914995a751b5013f'), ObjectId('6620262a914995a751b50140'), ObjectId('6620262a914995a751b50141'), ObjectId('6620262a914995a751b50142'), ObjectId('6620262a914995a751b50143'), ObjectId('6620262a914995a751b50144'), ObjectId('6620262a914995a751b50145'), ObjectId('6620262a914995a751b50146'), ObjectId('6620262a914995a751b50147'), ObjectId('6620262a914995a751b50148'), ObjectId('6620262a914995a751b50149'), ObjectId('6620262a914995a751b5014a'), ObjectId('6620262a914995a751b5014b'), ObjectId('6620262a914995a751b5014c'), ObjectId('6620262a914995a751b5014d'), ObjectId('6620262a914995a751b5014e'), ObjectId('6620262a914995a751b5014f'), ObjectId('6620262a914995a751b50150'), ObjectId('6620262a914995a751b50151'), ObjectId('6620262a914995a751b50152'), ObjectId('6620262a914995a751b50153'), ObjectId('6620262a914995a751b50154'), ObjectId('6620262a914995a751b50155'), ObjectId('6620262a914995a751b50156'), ObjectId('6620262a914995a751b50157'), ObjectId('6620262a914995a751b50158'), ObjectId('6620262a914995a751b50159'), ObjectId('6620262a914995a751b5015a'), ObjectId('6620262a914995a751b5015b'), ObjectId('6620262a914995a751b5015c'), ObjectId('6620262a914995a751b5015d'), ObjectId('6620262a914995a751b5015e'), ObjectId('6620262a914995a751b5015f'), ObjectId('6620262a914995a751b50160'), ObjectId('6620262a914995a751b50161'), ObjectId('6620262a914995a751b50162'), ObjectId('6620262a914995a751b50163'), ObjectId('6620262a914995a751b50164'), ObjectId('6620262a914995a751b50165'), ObjectId('6620262a914995a751b50166'), ObjectId('6620262a914995a751b50167'), ObjectId('6620262a914995a751b50168'), ObjectId('6620262a914995a751b50169'), ObjectId('6620262a914995a751b5016a'), ObjectId('6620262a914995a751b5016b'), ObjectId('6620262a914995a751b5016c'), ObjectId('6620262a914995a751b5016d'), ObjectId('6620262a914995a751b5016e'), ObjectId('6620262a914995a751b5016f'), ObjectId('6620262a914995a751b50170'), ObjectId('6620262a914995a751b50171'), ObjectId('6620262a914995a751b50172'), ObjectId('6620262a914995a751b50173'), ObjectId('6620262a914995a751b50174'), ObjectId('6620262a914995a751b50175'), ObjectId('6620262a914995a751b50176'), ObjectId('6620262a914995a751b50177'), ObjectId('6620262a914995a751b50178'), ObjectId('6620262a914995a751b50179'), ObjectId('6620262a914995a751b5017a'), ObjectId('6620262a914995a751b5017b'), ObjectId('6620262a914995a751b5017c'), ObjectId('6620262a914995a751b5017d'), ObjectId('6620262a914995a751b5017e'), ObjectId('6620262a914995a751b5017f'), ObjectId('6620262a914995a751b50180'), ObjectId('6620262a914995a751b50181'), ObjectId('6620262a914995a751b50182'), ObjectId('6620262a914995a751b50183'), ObjectId('6620262a914995a751b50184'), ObjectId('6620262a914995a751b50185'), ObjectId('6620262a914995a751b50186'), ObjectId('6620262a914995a751b50187'), ObjectId('6620262a914995a751b50188'), ObjectId('6620262a914995a751b50189'), ObjectId('6620262a914995a751b5018a'), ObjectId('6620262a914995a751b5018b'), ObjectId('6620262a914995a751b5018c'), ObjectId('6620262a914995a751b5018d'), ObjectId('6620262a914995a751b5018e'), ObjectId('6620262a914995a751b5018f'), ObjectId('6620262a914995a751b50190'), ObjectId('6620262a914995a751b50191'), ObjectId('6620262a914995a751b50192'), ObjectId('6620262a914995a751b50193'), ObjectId('6620262a914995a751b50194'), ObjectId('6620262a914995a751b50195'), ObjectId('6620262a914995a751b50196'), ObjectId('6620262a914995a751b50197'), ObjectId('6620262a914995a751b50198'), ObjectId('6620262a914995a751b50199'), ObjectId('6620262a914995a751b5019a'), ObjectId('6620262a914995a751b5019b'), ObjectId('6620262a914995a751b5019c'), ObjectId('6620262a914995a751b5019d'), ObjectId('6620262a914995a751b5019e'), ObjectId('6620262a914995a751b5019f'), ObjectId('6620262a914995a751b501a0'), ObjectId('6620262a914995a751b501a1'), ObjectId('6620262a914995a751b501a2'), ObjectId('6620262a914995a751b501a3'), ObjectId('6620262a914995a751b501a4'), ObjectId('6620262a914995a751b501a5'), ObjectId('6620262a914995a751b501a6'), ObjectId('6620262a914995a751b501a7'), ObjectId('6620262a914995a751b501a8'), ObjectId('6620262a914995a751b501a9'), ObjectId('6620262a914995a751b501aa'), ObjectId('6620262a914995a751b501ab'), ObjectId('6620262a914995a751b501ac'), ObjectId('6620262a914995a751b501ad'), ObjectId('6620262a914995a751b501ae'), ObjectId('6620262a914995a751b501af'), ObjectId('6620262a914995a751b501b0'), ObjectId('6620262a914995a751b501b1'), ObjectId('6620262a914995a751b501b2'), ObjectId('6620262a914995a751b501b3'), ObjectId('6620262a914995a751b501b4'), ObjectId('6620262a914995a751b501b5'), ObjectId('6620262a914995a751b501b6'), ObjectId('6620262a914995a751b501b7'), ObjectId('6620262a914995a751b501b8'), ObjectId('6620262a914995a751b501b9'), ObjectId('6620262a914995a751b501ba'), ObjectId('6620262a914995a751b501bb'), ObjectId('6620262a914995a751b501bc'), ObjectId('6620262a914995a751b501bd'), ObjectId('6620262a914995a751b501be'), ObjectId('6620262a914995a751b501bf'), ObjectId('6620262a914995a751b501c0'), ObjectId('6620262a914995a751b501c1'), ObjectId('6620262a914995a751b501c2'), ObjectId('6620262a914995a751b501c3'), ObjectId('6620262a914995a751b501c4'), ObjectId('6620262a914995a751b501c5'), ObjectId('6620262a914995a751b501c6'), ObjectId('6620262a914995a751b501c7'), ObjectId('6620262a914995a751b501c8'), ObjectId('6620262a914995a751b501c9'), ObjectId('6620262a914995a751b501ca'), ObjectId('6620262a914995a751b501cb'), ObjectId('6620262a914995a751b501cc'), ObjectId('6620262a914995a751b501cd'), ObjectId('6620262a914995a751b501ce'), ObjectId('6620262a914995a751b501cf'), ObjectId('6620262a914995a751b501d0'), ObjectId('6620262a914995a751b501d1'), ObjectId('6620262a914995a751b501d2'), ObjectId('6620262a914995a751b501d3'), ObjectId('6620262a914995a751b501d4'), ObjectId('6620262a914995a751b501d5'), ObjectId('6620262a914995a751b501d6'), ObjectId('6620262a914995a751b501d7'), ObjectId('6620262a914995a751b501d8'), ObjectId('6620262a914995a751b501d9'), ObjectId('6620262a914995a751b501da'), ObjectId('6620262a914995a751b501db'), ObjectId('6620262a914995a751b501dc'), ObjectId('6620262a914995a751b501dd'), ObjectId('6620262a914995a751b501de'), ObjectId('6620262a914995a751b501df'), ObjectId('6620262a914995a751b501e0'), ObjectId('6620262a914995a751b501e1'), ObjectId('6620262a914995a751b501e2'), ObjectId('6620262a914995a751b501e3'), ObjectId('6620262a914995a751b501e4'), ObjectId('6620262a914995a751b501e5'), ObjectId('6620262a914995a751b501e6'), ObjectId('6620262a914995a751b501e7'), ObjectId('6620262a914995a751b501e8'), ObjectId('6620262a914995a751b501e9'), ObjectId('6620262a914995a751b501ea'), ObjectId('6620262a914995a751b501eb'), ObjectId('6620262a914995a751b501ec'), ObjectId('6620262a914995a751b501ed'), ObjectId('6620262a914995a751b501ee'), ObjectId('6620262a914995a751b501ef'), ObjectId('6620262a914995a751b501f0'), ObjectId('6620262a914995a751b501f1'), ObjectId('6620262a914995a751b501f2'), ObjectId('6620262a914995a751b501f3'), ObjectId('6620262a914995a751b501f4'), ObjectId('6620262a914995a751b501f5'), ObjectId('6620262a914995a751b501f6'), ObjectId('6620262a914995a751b501f7'), ObjectId('6620262a914995a751b501f8'), ObjectId('6620262a914995a751b501f9'), ObjectId('6620262a914995a751b501fa'), ObjectId('6620262a914995a751b501fb'), ObjectId('6620262a914995a751b501fc'), ObjectId('6620262a914995a751b501fd'), ObjectId('6620262a914995a751b501fe'), ObjectId('6620262a914995a751b501ff'), ObjectId('6620262a914995a751b50200'), ObjectId('6620262a914995a751b50201'), ObjectId('6620262a914995a751b50202'), ObjectId('6620262a914995a751b50203'), ObjectId('6620262a914995a751b50204'), ObjectId('6620262a914995a751b50205'), ObjectId('6620262a914995a751b50206'), ObjectId('6620262a914995a751b50207'), ObjectId('6620262a914995a751b50208'), ObjectId('6620262a914995a751b50209'), ObjectId('6620262a914995a751b5020a'), ObjectId('6620262a914995a751b5020b'), ObjectId('6620262a914995a751b5020c'), ObjectId('6620262a914995a751b5020d'), ObjectId('6620262a914995a751b5020e'), ObjectId('6620262a914995a751b5020f'), ObjectId('6620262a914995a751b50210'), ObjectId('6620262a914995a751b50211'), ObjectId('6620262a914995a751b50212'), ObjectId('6620262a914995a751b50213'), ObjectId('6620262a914995a751b50214'), ObjectId('6620262a914995a751b50215'), ObjectId('6620262a914995a751b50216'), ObjectId('6620262a914995a751b50217'), ObjectId('6620262a914995a751b50218'), ObjectId('6620262a914995a751b50219'), ObjectId('6620262a914995a751b5021a'), ObjectId('6620262a914995a751b5021b'), ObjectId('6620262a914995a751b5021c'), ObjectId('6620262a914995a751b5021d'), ObjectId('6620262a914995a751b5021e'), ObjectId('6620262a914995a751b5021f'), ObjectId('6620262a914995a751b50220'), ObjectId('6620262a914995a751b50221'), ObjectId('6620262a914995a751b50222'), ObjectId('6620262a914995a751b50223'), ObjectId('6620262a914995a751b50224'), ObjectId('6620262a914995a751b50225'), ObjectId('6620262a914995a751b50226'), ObjectId('6620262a914995a751b50227'), ObjectId('6620262a914995a751b50228'), ObjectId('6620262a914995a751b50229'), ObjectId('6620262a914995a751b5022a'), ObjectId('6620262a914995a751b5022b'), ObjectId('6620262a914995a751b5022c'), ObjectId('6620262a914995a751b5022d'), ObjectId('6620262a914995a751b5022e'), ObjectId('6620262a914995a751b5022f'), ObjectId('6620262a914995a751b50230'), ObjectId('6620262a914995a751b50231'), ObjectId('6620262a914995a751b50232'), ObjectId('6620262a914995a751b50233'), ObjectId('6620262a914995a751b50234'), ObjectId('6620262a914995a751b50235'), ObjectId('6620262a914995a751b50236'), ObjectId('6620262a914995a751b50237'), ObjectId('6620262a914995a751b50238'), ObjectId('6620262a914995a751b50239'), ObjectId('6620262a914995a751b5023a'), ObjectId('6620262a914995a751b5023b'), ObjectId('6620262a914995a751b5023c'), ObjectId('6620262a914995a751b5023d'), ObjectId('6620262a914995a751b5023e'), ObjectId('6620262a914995a751b5023f'), ObjectId('6620262a914995a751b50240'), ObjectId('6620262a914995a751b50241'), ObjectId('6620262a914995a751b50242'), ObjectId('6620262a914995a751b50243'), ObjectId('6620262a914995a751b50244'), ObjectId('6620262a914995a751b50245'), ObjectId('6620262a914995a751b50246'), ObjectId('6620262a914995a751b50247'), ObjectId('6620262a914995a751b50248'), ObjectId('6620262a914995a751b50249'), ObjectId('6620262a914995a751b5024a'), ObjectId('6620262a914995a751b5024b'), ObjectId('6620262a914995a751b5024c'), ObjectId('6620262a914995a751b5024d'), ObjectId('6620262a914995a751b5024e'), ObjectId('6620262a914995a751b5024f'), ObjectId('6620262a914995a751b50250'), ObjectId('6620262a914995a751b50251'), ObjectId('6620262a914995a751b50252'), ObjectId('6620262a914995a751b50253'), ObjectId('6620262a914995a751b50254'), ObjectId('6620262a914995a751b50255'), ObjectId('6620262a914995a751b50256'), ObjectId('6620262a914995a751b50257'), ObjectId('6620262a914995a751b50258'), ObjectId('6620262a914995a751b50259'), ObjectId('6620262a914995a751b5025a'), ObjectId('6620262a914995a751b5025b'), ObjectId('6620262a914995a751b5025c'), ObjectId('6620262a914995a751b5025d'), ObjectId('6620262a914995a751b5025e'), ObjectId('6620262a914995a751b5025f'), ObjectId('6620262a914995a751b50260'), ObjectId('6620262a914995a751b50261'), ObjectId('6620262a914995a751b50262'), ObjectId('6620262a914995a751b50263'), ObjectId('6620262a914995a751b50264'), ObjectId('6620262a914995a751b50265'), ObjectId('6620262a914995a751b50266'), ObjectId('6620262a914995a751b50267'), ObjectId('6620262a914995a751b50268'), ObjectId('6620262a914995a751b50269'), ObjectId('6620262a914995a751b5026a'), ObjectId('6620262a914995a751b5026b'), ObjectId('6620262a914995a751b5026c'), ObjectId('6620262a914995a751b5026d'), ObjectId('6620262a914995a751b5026e'), ObjectId('6620262a914995a751b5026f'), ObjectId('6620262a914995a751b50270'), ObjectId('6620262a914995a751b50271'), ObjectId('6620262a914995a751b50272'), ObjectId('6620262a914995a751b50273'), ObjectId('6620262a914995a751b50274'), ObjectId('6620262a914995a751b50275'), ObjectId('6620262a914995a751b50276'), ObjectId('6620262a914995a751b50277'), ObjectId('6620262a914995a751b50278'), ObjectId('6620262a914995a751b50279'), ObjectId('6620262a914995a751b5027a'), ObjectId('6620262a914995a751b5027b'), ObjectId('6620262a914995a751b5027c'), ObjectId('6620262a914995a751b5027d'), ObjectId('6620262a914995a751b5027e'), ObjectId('6620262a914995a751b5027f'), ObjectId('6620262a914995a751b50280'), ObjectId('6620262a914995a751b50281'), ObjectId('6620262a914995a751b50282'), ObjectId('6620262a914995a751b50283'), ObjectId('6620262a914995a751b50284'), ObjectId('6620262a914995a751b50285'), ObjectId('6620262a914995a751b50286'), ObjectId('6620262a914995a751b50287'), ObjectId('6620262a914995a751b50288'), ObjectId('6620262a914995a751b50289'), ObjectId('6620262a914995a751b5028a'), ObjectId('6620262a914995a751b5028b'), ObjectId('6620262a914995a751b5028c'), ObjectId('6620262a914995a751b5028d'), ObjectId('6620262a914995a751b5028e'), ObjectId('6620262a914995a751b5028f'), ObjectId('6620262a914995a751b50290'), ObjectId('6620262a914995a751b50291'), ObjectId('6620262a914995a751b50292'), ObjectId('6620262a914995a751b50293'), ObjectId('6620262a914995a751b50294'), ObjectId('6620262a914995a751b50295'), ObjectId('6620262a914995a751b50296'), ObjectId('6620262a914995a751b50297'), ObjectId('6620262a914995a751b50298'), ObjectId('6620262a914995a751b50299'), ObjectId('6620262a914995a751b5029a'), ObjectId('6620262a914995a751b5029b'), ObjectId('6620262a914995a751b5029c'), ObjectId('6620262a914995a751b5029d'), ObjectId('6620262a914995a751b5029e'), ObjectId('6620262a914995a751b5029f'), ObjectId('6620262a914995a751b502a0'), ObjectId('6620262a914995a751b502a1'), ObjectId('6620262a914995a751b502a2'), ObjectId('6620262a914995a751b502a3'), ObjectId('6620262a914995a751b502a4'), ObjectId('6620262a914995a751b502a5'), ObjectId('6620262a914995a751b502a6'), ObjectId('6620262a914995a751b502a7'), ObjectId('6620262a914995a751b502a8'), ObjectId('6620262a914995a751b502a9'), ObjectId('6620262a914995a751b502aa'), ObjectId('6620262a914995a751b502ab'), ObjectId('6620262a914995a751b502ac'), ObjectId('6620262a914995a751b502ad'), ObjectId('6620262a914995a751b502ae'), ObjectId('6620262a914995a751b502af'), ObjectId('6620262a914995a751b502b0'), ObjectId('6620262a914995a751b502b1'), ObjectId('6620262a914995a751b502b2'), ObjectId('6620262a914995a751b502b3'), ObjectId('6620262a914995a751b502b4'), ObjectId('6620262a914995a751b502b5'), ObjectId('6620262a914995a751b502b6'), ObjectId('6620262a914995a751b502b7'), ObjectId('6620262a914995a751b502b8'), ObjectId('6620262a914995a751b502b9'), ObjectId('6620262a914995a751b502ba'), ObjectId('6620262a914995a751b502bb'), ObjectId('6620262a914995a751b502bc'), ObjectId('6620262a914995a751b502bd'), ObjectId('6620262a914995a751b502be'), ObjectId('6620262a914995a751b502bf'), ObjectId('6620262a914995a751b502c0'), ObjectId('6620262a914995a751b502c1'), ObjectId('6620262a914995a751b502c2'), ObjectId('6620262a914995a751b502c3'), ObjectId('6620262a914995a751b502c4'), ObjectId('6620262a914995a751b502c5'), ObjectId('6620262a914995a751b502c6'), ObjectId('6620262a914995a751b502c7'), ObjectId('6620262a914995a751b502c8'), ObjectId('6620262a914995a751b502c9'), ObjectId('6620262a914995a751b502ca'), ObjectId('6620262a914995a751b502cb'), ObjectId('6620262a914995a751b502cc'), ObjectId('6620262a914995a751b502cd'), ObjectId('6620262a914995a751b502ce'), ObjectId('6620262a914995a751b502cf'), ObjectId('6620262a914995a751b502d0'), ObjectId('6620262a914995a751b502d1'), ObjectId('6620262a914995a751b502d2'), ObjectId('6620262a914995a751b502d3'), ObjectId('6620262a914995a751b502d4'), ObjectId('6620262a914995a751b502d5'), ObjectId('6620262a914995a751b502d6'), ObjectId('6620262a914995a751b502d7'), ObjectId('6620262a914995a751b502d8'), ObjectId('6620262a914995a751b502d9'), ObjectId('6620262a914995a751b502da'), ObjectId('6620262a914995a751b502db'), ObjectId('6620262a914995a751b502dc'), ObjectId('6620262a914995a751b502dd'), ObjectId('6620262a914995a751b502de'), ObjectId('6620262a914995a751b502df'), ObjectId('6620262a914995a751b502e0'), ObjectId('6620262a914995a751b502e1'), ObjectId('6620262a914995a751b502e2'), ObjectId('6620262a914995a751b502e3'), ObjectId('6620262a914995a751b502e4'), ObjectId('6620262a914995a751b502e5'), ObjectId('6620262a914995a751b502e6'), ObjectId('6620262a914995a751b502e7'), ObjectId('6620262a914995a751b502e8'), ObjectId('6620262a914995a751b502e9'), ObjectId('6620262a914995a751b502ea'), ObjectId('6620262a914995a751b502eb'), ObjectId('6620262a914995a751b502ec'), ObjectId('6620262a914995a751b502ed'), ObjectId('6620262a914995a751b502ee'), ObjectId('6620262a914995a751b502ef'), ObjectId('6620262a914995a751b502f0'), ObjectId('6620262a914995a751b502f1'), ObjectId('6620262a914995a751b502f2'), ObjectId('6620262a914995a751b502f3'), ObjectId('6620262a914995a751b502f4'), ObjectId('6620262a914995a751b502f5'), ObjectId('6620262a914995a751b502f6'), ObjectId('6620262a914995a751b502f7'), ObjectId('6620262a914995a751b502f8'), ObjectId('6620262a914995a751b502f9'), ObjectId('6620262a914995a751b502fa'), ObjectId('6620262a914995a751b502fb'), ObjectId('6620262a914995a751b502fc'), ObjectId('6620262a914995a751b502fd'), ObjectId('6620262a914995a751b502fe'), ObjectId('6620262a914995a751b502ff'), ObjectId('6620262a914995a751b50300'), ObjectId('6620262a914995a751b50301'), ObjectId('6620262a914995a751b50302'), ObjectId('6620262a914995a751b50303'), ObjectId('6620262a914995a751b50304'), ObjectId('6620262a914995a751b50305'), ObjectId('6620262a914995a751b50306'), ObjectId('6620262a914995a751b50307'), ObjectId('6620262a914995a751b50308'), ObjectId('6620262a914995a751b50309'), ObjectId('6620262a914995a751b5030a'), ObjectId('6620262a914995a751b5030b'), ObjectId('6620262a914995a751b5030c'), ObjectId('6620262a914995a751b5030d'), ObjectId('6620262a914995a751b5030e'), ObjectId('6620262a914995a751b5030f'), ObjectId('6620262a914995a751b50310'), ObjectId('6620262a914995a751b50311'), ObjectId('6620262a914995a751b50312'), ObjectId('6620262a914995a751b50313'), ObjectId('6620262a914995a751b50314'), ObjectId('6620262a914995a751b50315'), ObjectId('6620262a914995a751b50316'), ObjectId('6620262a914995a751b50317'), ObjectId('6620262a914995a751b50318'), ObjectId('6620262a914995a751b50319'), ObjectId('6620262a914995a751b5031a'), ObjectId('6620262a914995a751b5031b'), ObjectId('6620262a914995a751b5031c'), ObjectId('6620262a914995a751b5031d'), ObjectId('6620262a914995a751b5031e'), ObjectId('6620262a914995a751b5031f'), ObjectId('6620262a914995a751b50320'), ObjectId('6620262a914995a751b50321'), ObjectId('6620262a914995a751b50322'), ObjectId('6620262a914995a751b50323'), ObjectId('6620262a914995a751b50324'), ObjectId('6620262a914995a751b50325'), ObjectId('6620262a914995a751b50326'), ObjectId('6620262a914995a751b50327'), ObjectId('6620262a914995a751b50328'), ObjectId('6620262a914995a751b50329'), ObjectId('6620262a914995a751b5032a'), ObjectId('6620262a914995a751b5032b'), ObjectId('6620262a914995a751b5032c'), ObjectId('6620262a914995a751b5032d'), ObjectId('6620262a914995a751b5032e'), ObjectId('6620262a914995a751b5032f'), ObjectId('6620262a914995a751b50330'), ObjectId('6620262a914995a751b50331'), ObjectId('6620262a914995a751b50332'), ObjectId('6620262a914995a751b50333'), ObjectId('6620262a914995a751b50334'), ObjectId('6620262a914995a751b50335'), ObjectId('6620262a914995a751b50336'), ObjectId('6620262a914995a751b50337'), ObjectId('6620262a914995a751b50338'), ObjectId('6620262a914995a751b50339'), ObjectId('6620262a914995a751b5033a'), ObjectId('6620262a914995a751b5033b'), ObjectId('6620262a914995a751b5033c'), ObjectId('6620262a914995a751b5033d'), ObjectId('6620262a914995a751b5033e'), ObjectId('6620262a914995a751b5033f'), ObjectId('6620262a914995a751b50340'), ObjectId('6620262a914995a751b50341'), ObjectId('6620262a914995a751b50342'), ObjectId('6620262a914995a751b50343'), ObjectId('6620262a914995a751b50344'), ObjectId('6620262a914995a751b50345'), ObjectId('6620262a914995a751b50346'), ObjectId('6620262a914995a751b50347'), ObjectId('6620262a914995a751b50348'), ObjectId('6620262a914995a751b50349'), ObjectId('6620262a914995a751b5034a'), ObjectId('6620262a914995a751b5034b'), ObjectId('6620262a914995a751b5034c'), ObjectId('6620262a914995a751b5034d'), ObjectId('6620262a914995a751b5034e'), ObjectId('6620262a914995a751b5034f'), ObjectId('6620262a914995a751b50350'), ObjectId('6620262a914995a751b50351'), ObjectId('6620262a914995a751b50352'), ObjectId('6620262a914995a751b50353'), ObjectId('6620262a914995a751b50354'), ObjectId('6620262a914995a751b50355'), ObjectId('6620262a914995a751b50356'), ObjectId('6620262a914995a751b50357'), ObjectId('6620262a914995a751b50358'), ObjectId('6620262a914995a751b50359'), ObjectId('6620262a914995a751b5035a'), ObjectId('6620262a914995a751b5035b'), ObjectId('6620262a914995a751b5035c'), ObjectId('6620262a914995a751b5035d'), ObjectId('6620262a914995a751b5035e'), ObjectId('6620262a914995a751b5035f'), ObjectId('6620262a914995a751b50360'), ObjectId('6620262a914995a751b50361'), ObjectId('6620262a914995a751b50362'), ObjectId('6620262a914995a751b50363'), ObjectId('6620262a914995a751b50364'), ObjectId('6620262a914995a751b50365'), ObjectId('6620262a914995a751b50366'), ObjectId('6620262a914995a751b50367'), ObjectId('6620262a914995a751b50368'), ObjectId('6620262a914995a751b50369'), ObjectId('6620262a914995a751b5036a'), ObjectId('6620262a914995a751b5036b'), ObjectId('6620262a914995a751b5036c'), ObjectId('6620262a914995a751b5036d'), ObjectId('6620262a914995a751b5036e'), ObjectId('6620262a914995a751b5036f'), ObjectId('6620262a914995a751b50370'), ObjectId('6620262a914995a751b50371'), ObjectId('6620262a914995a751b50372'), ObjectId('6620262a914995a751b50373'), ObjectId('6620262a914995a751b50374'), ObjectId('6620262a914995a751b50375'), ObjectId('6620262a914995a751b50376'), ObjectId('6620262a914995a751b50377'), ObjectId('6620262a914995a751b50378'), ObjectId('6620262a914995a751b50379'), ObjectId('6620262a914995a751b5037a'), ObjectId('6620262a914995a751b5037b'), ObjectId('6620262a914995a751b5037c'), ObjectId('6620262a914995a751b5037d'), ObjectId('6620262a914995a751b5037e'), ObjectId('6620262a914995a751b5037f'), ObjectId('6620262a914995a751b50380'), ObjectId('6620262a914995a751b50381'), ObjectId('6620262a914995a751b50382'), ObjectId('6620262a914995a751b50383'), ObjectId('6620262a914995a751b50384'), ObjectId('6620262a914995a751b50385'), ObjectId('6620262a914995a751b50386'), ObjectId('6620262a914995a751b50387'), ObjectId('6620262a914995a751b50388'), ObjectId('6620262a914995a751b50389'), ObjectId('6620262a914995a751b5038a'), ObjectId('6620262a914995a751b5038b'), ObjectId('6620262a914995a751b5038c'), ObjectId('6620262a914995a751b5038d'), ObjectId('6620262a914995a751b5038e'), ObjectId('6620262a914995a751b5038f'), ObjectId('6620262a914995a751b50390'), ObjectId('6620262a914995a751b50391'), ObjectId('6620262a914995a751b50392'), ObjectId('6620262a914995a751b50393'), ObjectId('6620262a914995a751b50394'), ObjectId('6620262a914995a751b50395'), ObjectId('6620262a914995a751b50396'), ObjectId('6620262a914995a751b50397'), ObjectId('6620262a914995a751b50398'), ObjectId('6620262a914995a751b50399'), ObjectId('6620262a914995a751b5039a'), ObjectId('6620262a914995a751b5039b'), ObjectId('6620262a914995a751b5039c'), ObjectId('6620262a914995a751b5039d'), ObjectId('6620262a914995a751b5039e'), ObjectId('6620262a914995a751b5039f'), ObjectId('6620262a914995a751b503a0'), ObjectId('6620262a914995a751b503a1'), ObjectId('6620262a914995a751b503a2'), ObjectId('6620262a914995a751b503a3'), ObjectId('6620262a914995a751b503a4'), ObjectId('6620262a914995a751b503a5'), ObjectId('6620262a914995a751b503a6'), ObjectId('6620262a914995a751b503a7'), ObjectId('6620262a914995a751b503a8'), ObjectId('6620262a914995a751b503a9'), ObjectId('6620262a914995a751b503aa'), ObjectId('6620262a914995a751b503ab'), ObjectId('6620262a914995a751b503ac'), ObjectId('6620262a914995a751b503ad'), ObjectId('6620262a914995a751b503ae'), ObjectId('6620262a914995a751b503af'), ObjectId('6620262a914995a751b503b0'), ObjectId('6620262a914995a751b503b1'), ObjectId('6620262a914995a751b503b2'), ObjectId('6620262a914995a751b503b3'), ObjectId('6620262a914995a751b503b4'), ObjectId('6620262a914995a751b503b5'), ObjectId('6620262a914995a751b503b6'), ObjectId('6620262a914995a751b503b7'), ObjectId('6620262a914995a751b503b8'), ObjectId('6620262a914995a751b503b9'), ObjectId('6620262a914995a751b503ba'), ObjectId('6620262a914995a751b503bb'), ObjectId('6620262a914995a751b503bc'), ObjectId('6620262a914995a751b503bd'), ObjectId('6620262a914995a751b503be'), ObjectId('6620262a914995a751b503bf'), ObjectId('6620262a914995a751b503c0'), ObjectId('6620262a914995a751b503c1'), ObjectId('6620262a914995a751b503c2'), ObjectId('6620262a914995a751b503c3'), ObjectId('6620262a914995a751b503c4'), ObjectId('6620262a914995a751b503c5'), ObjectId('6620262a914995a751b503c6'), ObjectId('6620262a914995a751b503c7'), ObjectId('6620262a914995a751b503c8'), ObjectId('6620262a914995a751b503c9'), ObjectId('6620262a914995a751b503ca'), ObjectId('6620262a914995a751b503cb'), ObjectId('6620262a914995a751b503cc'), ObjectId('6620262a914995a751b503cd'), ObjectId('6620262a914995a751b503ce'), ObjectId('6620262a914995a751b503cf'), ObjectId('6620262a914995a751b503d0'), ObjectId('6620262a914995a751b503d1'), ObjectId('6620262a914995a751b503d2'), ObjectId('6620262a914995a751b503d3'), ObjectId('6620262a914995a751b503d4'), ObjectId('6620262a914995a751b503d5'), ObjectId('6620262a914995a751b503d6'), ObjectId('6620262a914995a751b503d7'), ObjectId('6620262a914995a751b503d8'), ObjectId('6620262a914995a751b503d9'), ObjectId('6620262a914995a751b503da'), ObjectId('6620262a914995a751b503db'), ObjectId('6620262a914995a751b503dc'), ObjectId('6620262a914995a751b503dd'), ObjectId('6620262a914995a751b503de'), ObjectId('6620262a914995a751b503df'), ObjectId('6620262a914995a751b503e0'), ObjectId('6620262a914995a751b503e1'), ObjectId('6620262a914995a751b503e2'), ObjectId('6620262a914995a751b503e3'), ObjectId('6620262a914995a751b503e4'), ObjectId('6620262a914995a751b503e5'), ObjectId('6620262a914995a751b503e6'), ObjectId('6620262a914995a751b503e7'), ObjectId('6620262a914995a751b503e8'), ObjectId('6620262a914995a751b503e9'), ObjectId('6620262a914995a751b503ea'), ObjectId('6620262a914995a751b503eb'), ObjectId('6620262a914995a751b503ec'), ObjectId('6620262a914995a751b503ed'), ObjectId('6620262a914995a751b503ee'), ObjectId('6620262a914995a751b503ef'), ObjectId('6620262a914995a751b503f0'), ObjectId('6620262a914995a751b503f1'), ObjectId('6620262a914995a751b503f2'), ObjectId('6620262a914995a751b503f3'), ObjectId('6620262a914995a751b503f4'), ObjectId('6620262a914995a751b503f5'), ObjectId('6620262a914995a751b503f6'), ObjectId('6620262a914995a751b503f7'), ObjectId('6620262a914995a751b503f8'), ObjectId('6620262a914995a751b503f9'), ObjectId('6620262a914995a751b503fa'), ObjectId('6620262a914995a751b503fb'), ObjectId('6620262a914995a751b503fc'), ObjectId('6620262a914995a751b503fd'), ObjectId('6620262a914995a751b503fe'), ObjectId('6620262a914995a751b503ff'), ObjectId('6620262a914995a751b50400'), ObjectId('6620262a914995a751b50401'), ObjectId('6620262a914995a751b50402'), ObjectId('6620262a914995a751b50403'), ObjectId('6620262a914995a751b50404'), ObjectId('6620262a914995a751b50405'), ObjectId('6620262a914995a751b50406'), ObjectId('6620262a914995a751b50407'), ObjectId('6620262a914995a751b50408'), ObjectId('6620262a914995a751b50409'), ObjectId('6620262a914995a751b5040a'), ObjectId('6620262a914995a751b5040b'), ObjectId('6620262a914995a751b5040c'), ObjectId('6620262a914995a751b5040d'), ObjectId('6620262a914995a751b5040e'), ObjectId('6620262a914995a751b5040f'), ObjectId('6620262a914995a751b50410'), ObjectId('6620262a914995a751b50411'), ObjectId('6620262a914995a751b50412'), ObjectId('6620262a914995a751b50413'), ObjectId('6620262a914995a751b50414'), ObjectId('6620262a914995a751b50415'), ObjectId('6620262a914995a751b50416'), ObjectId('6620262a914995a751b50417'), ObjectId('6620262a914995a751b50418'), ObjectId('6620262a914995a751b50419'), ObjectId('6620262a914995a751b5041a'), ObjectId('6620262a914995a751b5041b'), ObjectId('6620262a914995a751b5041c'), ObjectId('6620262a914995a751b5041d'), ObjectId('6620262a914995a751b5041e'), ObjectId('6620262a914995a751b5041f'), ObjectId('6620262a914995a751b50420'), ObjectId('6620262a914995a751b50421'), ObjectId('6620262a914995a751b50422'), ObjectId('6620262a914995a751b50423'), ObjectId('6620262a914995a751b50424'), ObjectId('6620262a914995a751b50425'), ObjectId('6620262a914995a751b50426'), ObjectId('6620262a914995a751b50427'), ObjectId('6620262a914995a751b50428'), ObjectId('6620262a914995a751b50429'), ObjectId('6620262a914995a751b5042a'), ObjectId('6620262a914995a751b5042b'), ObjectId('6620262a914995a751b5042c'), ObjectId('6620262a914995a751b5042d'), ObjectId('6620262a914995a751b5042e'), ObjectId('6620262a914995a751b5042f'), ObjectId('6620262a914995a751b50430'), ObjectId('6620262a914995a751b50431'), ObjectId('6620262a914995a751b50432'), ObjectId('6620262a914995a751b50433'), ObjectId('6620262a914995a751b50434'), ObjectId('6620262a914995a751b50435'), ObjectId('6620262a914995a751b50436'), ObjectId('6620262a914995a751b50437'), ObjectId('6620262a914995a751b50438'), ObjectId('6620262a914995a751b50439'), ObjectId('6620262a914995a751b5043a'), ObjectId('6620262a914995a751b5043b'), ObjectId('6620262a914995a751b5043c'), ObjectId('6620262a914995a751b5043d'), ObjectId('6620262a914995a751b5043e'), ObjectId('6620262a914995a751b5043f'), ObjectId('6620262a914995a751b50440'), ObjectId('6620262a914995a751b50441'), ObjectId('6620262a914995a751b50442'), ObjectId('6620262a914995a751b50443'), ObjectId('6620262a914995a751b50444'), ObjectId('6620262a914995a751b50445'), ObjectId('6620262a914995a751b50446'), ObjectId('6620262a914995a751b50447'), ObjectId('6620262a914995a751b50448'), ObjectId('6620262a914995a751b50449'), ObjectId('6620262a914995a751b5044a'), ObjectId('6620262a914995a751b5044b'), ObjectId('6620262a914995a751b5044c'), ObjectId('6620262a914995a751b5044d'), ObjectId('6620262a914995a751b5044e'), ObjectId('6620262a914995a751b5044f'), ObjectId('6620262a914995a751b50450'), ObjectId('6620262a914995a751b50451'), ObjectId('6620262a914995a751b50452'), ObjectId('6620262a914995a751b50453'), ObjectId('6620262a914995a751b50454'), ObjectId('6620262a914995a751b50455'), ObjectId('6620262a914995a751b50456'), ObjectId('6620262a914995a751b50457'), ObjectId('6620262a914995a751b50458'), ObjectId('6620262a914995a751b50459'), ObjectId('6620262a914995a751b5045a'), ObjectId('6620262a914995a751b5045b'), ObjectId('6620262a914995a751b5045c'), ObjectId('6620262a914995a751b5045d'), ObjectId('6620262a914995a751b5045e'), ObjectId('6620262a914995a751b5045f'), ObjectId('6620262a914995a751b50460'), ObjectId('6620262a914995a751b50461'), ObjectId('6620262a914995a751b50462'), ObjectId('6620262a914995a751b50463'), ObjectId('6620262a914995a751b50464'), ObjectId('6620262a914995a751b50465'), ObjectId('6620262a914995a751b50466'), ObjectId('6620262a914995a751b50467'), ObjectId('6620262a914995a751b50468'), ObjectId('6620262a914995a751b50469'), ObjectId('6620262a914995a751b5046a'), ObjectId('6620262a914995a751b5046b'), ObjectId('6620262a914995a751b5046c'), ObjectId('6620262a914995a751b5046d'), ObjectId('6620262a914995a751b5046e'), ObjectId('6620262a914995a751b5046f'), ObjectId('6620262a914995a751b50470'), ObjectId('6620262a914995a751b50471'), ObjectId('6620262a914995a751b50472'), ObjectId('6620262a914995a751b50473'), ObjectId('6620262a914995a751b50474'), ObjectId('6620262a914995a751b50475'), ObjectId('6620262a914995a751b50476'), ObjectId('6620262a914995a751b50477'), ObjectId('6620262a914995a751b50478'), ObjectId('6620262a914995a751b50479'), ObjectId('6620262a914995a751b5047a'), ObjectId('6620262a914995a751b5047b'), ObjectId('6620262a914995a751b5047c'), ObjectId('6620262a914995a751b5047d'), ObjectId('6620262a914995a751b5047e'), ObjectId('6620262a914995a751b5047f'), ObjectId('6620262a914995a751b50480'), ObjectId('6620262a914995a751b50481'), ObjectId('6620262a914995a751b50482'), ObjectId('6620262a914995a751b50483')], acknowledged=True)"
      ]
     },
     "execution_count": 7,
     "metadata": {},
     "output_type": "execute_result"
    }
   ],
   "source": [
    "# Delete existing documents to avoid repetition\n",
    "collection.delete_many({})\n",
    "\n",
    "# Convert DataFrame to dictionary format suitable for MongoDB\n",
    "data_dict = df.to_dict('records')\n",
    "# Insert data into the collection\n",
    "collection.insert_many(data_dict)"
   ]
  },
  {
   "cell_type": "code",
   "execution_count": 10,
   "id": "5562cdc1",
   "metadata": {},
   "outputs": [
    {
     "name": "stdout",
     "output_type": "stream",
     "text": [
      "Authtoken saved to configuration file: /Users/a333/Library/Application Support/ngrok/ngrok.yml\r\n"
     ]
    }
   ],
   "source": [
    "# norok configuration\n",
    "!ngrok authtoken 2fEnwsm3CxXjygvnMnGtOe6rmjS_4ZFFGsSpordiAqL4UgiB2"
   ]
  },
  {
   "cell_type": "code",
   "execution_count": 11,
   "id": "ff93ed1f",
   "metadata": {},
   "outputs": [],
   "source": [
    "# Return the ngrok URL for external access\n",
    "def run_app():\n",
    "    ngrok.set_auth_token('2fEnwsm3CxXjygvnMnGtOe6rmjS_4ZFFGsSpordiAqL4UgiB2')\n",
    "    public_url = ngrok.connect(5001)\n",
    "    print(f\"ngrok tunnel 'public_url' -> 'http://127.0.0.1:5001/'\")\n",
    "    app.run(port=5001, use_reloader=False)\n",
    "    return public_url"
   ]
  },
  {
   "cell_type": "code",
   "execution_count": 12,
   "id": "b70db658",
   "metadata": {},
   "outputs": [],
   "source": [
    "from flask import Flask, request, render_template\n",
    "from pymongo import MongoClient\n",
    "from pyngrok import ngrok\n",
    "import threading\n",
    "\n",
    "app = Flask(__name__, template_folder='.')\n",
    "\n",
    "# MongoDB setup\n",
    "client = MongoClient('mongodb://localhost:27017/')\n",
    "db = client['5400']\n",
    "collection = db.Job2\n",
    "\n",
    "# Display the 'index.html' template on the homepage\n",
    "@app.route('/', methods=['GET'])\n",
    "def home():\n",
    "    return render_template('index.html')\n",
    "\n",
    "# Design the search interface\n",
    "@app.route('/search', methods=['POST'])\n",
    "def search():\n",
    "    job_id = request.form.get('job_id')\n",
    "    borough = request.form.get('borough')\n",
    "\n",
    "    query = {}\n",
    "    if job_id:\n",
    "        query['job__'] = job_id\n",
    "    if borough:\n",
    "        query['borough'] = borough\n",
    "\n",
    "    results = collection.find(query)\n",
    "    results = list(results)  # Convert cursor to list for easier handling in the template\n",
    "    return render_template('results.html', results=results)\n",
    "\n",
    "# Run the Flask app\n",
    "public_url = None #Store the norok URL\n",
    "def run_app():\n",
    "    global public_url\n",
    "    ngrok.set_auth_token('2fEnwsm3CxXjygvnMnGtOe6rmjS_4ZFFGsSpordiAqL4UgiB2')\n",
    "    public_url = ngrok.connect(5001)\n",
    "    print(f\"ngrok tunnel public URL is {public_url}\")\n",
    "    app.run(port=5001, use_reloader=False)\n",
    "\n",
    "# Terminate the Flask app\n",
    "def stop_flask():\n",
    "    if public_url:\n",
    "        ngrok.disconnect(public_url)\n",
    "        print(\"ngrok tunnel closed\")"
   ]
  },
  {
   "cell_type": "code",
   "execution_count": 13,
   "id": "e8e820fb",
   "metadata": {},
   "outputs": [],
   "source": [
    "# Initialize and start a separate thread\n",
    "flask_thread = threading.Thread(target=run_app)\n",
    "flask_thread.start()"
   ]
  },
  {
   "cell_type": "code",
   "execution_count": 14,
   "id": "f3e0d4db",
   "metadata": {},
   "outputs": [
    {
     "name": "stdout",
     "output_type": "stream",
     "text": [
      "ngrok tunnel public URL is NgrokTunnel: \"https://ef4b-209-2-225-5.ngrok-free.app\" -> \"http://localhost:5001\"\n",
      " * Serving Flask app '__main__'\n",
      " * Debug mode: off\n"
     ]
    },
    {
     "name": "stderr",
     "output_type": "stream",
     "text": [
      "WARNING: This is a development server. Do not use it in a production deployment. Use a production WSGI server instead.\n",
      " * Running on http://127.0.0.1:5001\n",
      "Press CTRL+C to quit\n",
      "127.0.0.1 - - [17/Apr/2024 15:42:41] \"GET / HTTP/1.1\" 200 -\n",
      "127.0.0.1 - - [17/Apr/2024 15:42:54] \"POST /search HTTP/1.1\" 200 -\n"
     ]
    }
   ],
   "source": [
    "stop_flask()"
   ]
  }
 ],
 "metadata": {
  "kernelspec": {
   "display_name": "Python 3 (ipykernel)",
   "language": "python",
   "name": "python3"
  },
  "language_info": {
   "codemirror_mode": {
    "name": "ipython",
    "version": 3
   },
   "file_extension": ".py",
   "mimetype": "text/x-python",
   "name": "python",
   "nbconvert_exporter": "python",
   "pygments_lexer": "ipython3",
   "version": "3.9.9"
  }
 },
 "nbformat": 4,
 "nbformat_minor": 5
}
